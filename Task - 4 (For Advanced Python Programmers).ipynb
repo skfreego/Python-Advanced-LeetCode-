{
 "cells": [
  {
   "cell_type": "markdown",
   "id": "e8c37a4b",
   "metadata": {},
   "source": [
    "### Single Number"
   ]
  },
  {
   "cell_type": "code",
   "execution_count": 1,
   "id": "1efc9c95",
   "metadata": {},
   "outputs": [],
   "source": [
    "class Solution:\n",
    "    def singleNumber(self, nums):\n",
    "        \n",
    "        unique = set(nums)\n",
    "        for i in unique:\n",
    "            count = 0\n",
    "            for j in nums:\n",
    "                if i == j:\n",
    "                    count += 1\n",
    "            if count == 1:\n",
    "                return i"
   ]
  },
  {
   "cell_type": "code",
   "execution_count": 2,
   "id": "c9efc7ae",
   "metadata": {},
   "outputs": [
    {
     "data": {
      "text/plain": [
       "1"
      ]
     },
     "execution_count": 2,
     "metadata": {},
     "output_type": "execute_result"
    }
   ],
   "source": [
    "sol = Solution()\n",
    "sol.singleNumber([1,2,2])"
   ]
  },
  {
   "cell_type": "markdown",
   "id": "d56921ef",
   "metadata": {},
   "source": [
    "### Sort Integers by the number of 1 bits"
   ]
  },
  {
   "cell_type": "code",
   "execution_count": 3,
   "id": "56e09c10",
   "metadata": {},
   "outputs": [],
   "source": [
    "class Solution:\n",
    "    def sortByBits(self, arr):\n",
    "        diction = {}\n",
    "\n",
    "        for i in arr:\n",
    "            binary = bin(i)[2:]\n",
    "            count = binary.count('1')\n",
    "            diction[i] = count\n",
    "        return (list(dict(sorted(diction.items(), key=lambda item: item[1])).keys()))        "
   ]
  },
  {
   "cell_type": "code",
   "execution_count": 4,
   "id": "d34a06af",
   "metadata": {},
   "outputs": [
    {
     "data": {
      "text/plain": [
       "[1024, 512, 256, 128, 64, 32, 16, 8, 4, 2, 1]"
      ]
     },
     "execution_count": 4,
     "metadata": {},
     "output_type": "execute_result"
    }
   ],
   "source": [
    "sol = Solution()\n",
    "sol.sortByBits([1024,512,256,128,64,32,16,8,4,2,1])"
   ]
  },
  {
   "cell_type": "markdown",
   "id": "fb1fd95b",
   "metadata": {},
   "source": [
    "### Single Number lll"
   ]
  },
  {
   "cell_type": "code",
   "execution_count": 5,
   "id": "37d925aa",
   "metadata": {},
   "outputs": [],
   "source": [
    "class Solution:\n",
    "    def singleNumber(self, nums):\n",
    "        \n",
    "        elements = []\n",
    "        for i in nums:\n",
    "            if nums.count(i) == 1:\n",
    "                elements.append(i)\n",
    "                if len(elements) == 2:\n",
    "                    return elements\n",
    "        return elements"
   ]
  },
  {
   "cell_type": "code",
   "execution_count": 6,
   "id": "5b8bd4c4",
   "metadata": {},
   "outputs": [
    {
     "name": "stdout",
     "output_type": "stream",
     "text": [
      "1 2 3 6 5 4 1 2 3 4\n"
     ]
    },
    {
     "data": {
      "text/plain": [
       "[6, 5]"
      ]
     },
     "execution_count": 6,
     "metadata": {},
     "output_type": "execute_result"
    }
   ],
   "source": [
    "sol = Solution()\n",
    "sol.singleNumber(list(map(int,input().split())))"
   ]
  },
  {
   "cell_type": "markdown",
   "id": "ef6d9b4a",
   "metadata": {},
   "source": [
    "### Subsets"
   ]
  },
  {
   "cell_type": "code",
   "execution_count": 7,
   "id": "9a519aad",
   "metadata": {},
   "outputs": [],
   "source": [
    "class Solution:\n",
    "    def subsets(self, nums):\n",
    "        results = []\n",
    "        \n",
    "        self.helper(results, nums, [], 0)\n",
    "        \n",
    "        return results\n",
    "    \n",
    "    def helper(self, results, nums, subset, start):\n",
    "        results.append(list(subset))\n",
    "        \n",
    "        \n",
    "        for i in range(start, len(nums)):\n",
    "            num = nums[i]\n",
    "            subset.append(num)\n",
    "            self.helper(results, nums, subset, i + 1)\n",
    "            subset.pop()"
   ]
  },
  {
   "cell_type": "code",
   "execution_count": 8,
   "id": "27bf63c0",
   "metadata": {},
   "outputs": [
    {
     "data": {
      "text/plain": [
       "[[], [1], [1, 2], [1, 2, 3], [1, 3], [2], [2, 3], [3]]"
      ]
     },
     "execution_count": 8,
     "metadata": {},
     "output_type": "execute_result"
    }
   ],
   "source": [
    "sol = Solution()\n",
    "sol.subsets([1,2,3])"
   ]
  }
 ],
 "metadata": {
  "kernelspec": {
   "display_name": "Python 3",
   "language": "python",
   "name": "python3"
  },
  "language_info": {
   "codemirror_mode": {
    "name": "ipython",
    "version": 3
   },
   "file_extension": ".py",
   "mimetype": "text/x-python",
   "name": "python",
   "nbconvert_exporter": "python",
   "pygments_lexer": "ipython3",
   "version": "3.8.8"
  }
 },
 "nbformat": 4,
 "nbformat_minor": 5
}

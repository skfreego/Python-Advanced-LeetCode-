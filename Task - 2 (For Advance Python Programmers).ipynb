{
 "cells": [
  {
   "cell_type": "markdown",
   "id": "5ceaec48",
   "metadata": {},
   "source": [
    "### Defanging an IP Address"
   ]
  },
  {
   "cell_type": "code",
   "execution_count": 1,
   "id": "2c60a3bb",
   "metadata": {},
   "outputs": [],
   "source": [
    "class Solution(object):\n",
    "    def defangIPaddr(self, address):\n",
    "\n",
    "        address = address.replace('.','[.]')\n",
    "        return address     "
   ]
  },
  {
   "cell_type": "code",
   "execution_count": 2,
   "id": "e8174921",
   "metadata": {},
   "outputs": [
    {
     "name": "stdout",
     "output_type": "stream",
     "text": [
      "192.169.0.1\n"
     ]
    },
    {
     "data": {
      "text/plain": [
       "'192[.]169[.]0[.]1'"
      ]
     },
     "execution_count": 2,
     "metadata": {},
     "output_type": "execute_result"
    }
   ],
   "source": [
    "sol = Solution()\n",
    "sol.defangIPaddr(input())"
   ]
  },
  {
   "cell_type": "markdown",
   "id": "4c9b5514",
   "metadata": {},
   "source": [
    "### Find Numbers with even number of Digits"
   ]
  },
  {
   "cell_type": "code",
   "execution_count": 3,
   "id": "bd3e7eee",
   "metadata": {},
   "outputs": [],
   "source": [
    "class Solution(object):\n",
    "    def findNumbers(self, nums):\n",
    "        nums = [str(i) for i in nums]\n",
    "        sums = 0\n",
    "        for i in nums:\n",
    "            if len(i) % 2 == 0:\n",
    "                sums += 1\n",
    "        return sums"
   ]
  },
  {
   "cell_type": "code",
   "execution_count": 4,
   "id": "b2308a08",
   "metadata": {},
   "outputs": [
    {
     "data": {
      "text/plain": [
       "1"
      ]
     },
     "execution_count": 4,
     "metadata": {},
     "output_type": "execute_result"
    }
   ],
   "source": [
    "sol = Solution()\n",
    "sol.findNumbers([1,22,3,4,5,6,7])"
   ]
  },
  {
   "cell_type": "markdown",
   "id": "e43eca99",
   "metadata": {},
   "source": [
    "### Number of Good Pairs"
   ]
  },
  {
   "cell_type": "code",
   "execution_count": 5,
   "id": "819899ed",
   "metadata": {},
   "outputs": [],
   "source": [
    "class Solution(object):\n",
    "    def numIdenticalPairs(self, nums):\n",
    "        \n",
    "        sums = 0\n",
    "        for i in range(len(nums)):\n",
    "            for j in range(len(nums)):\n",
    "                   if nums[i] == nums[j] and j>i:\n",
    "                           sums += 1\n",
    "        return sums\n"
   ]
  },
  {
   "cell_type": "code",
   "execution_count": 6,
   "id": "bd9ff732",
   "metadata": {},
   "outputs": [
    {
     "name": "stdout",
     "output_type": "stream",
     "text": [
      "1 2 3 1 1 3\n"
     ]
    },
    {
     "data": {
      "text/plain": [
       "4"
      ]
     },
     "execution_count": 6,
     "metadata": {},
     "output_type": "execute_result"
    }
   ],
   "source": [
    "sol = Solution()\n",
    "sol.numIdenticalPairs(list(map(int,input().split())))"
   ]
  },
  {
   "cell_type": "markdown",
   "id": "2e41ddff",
   "metadata": {},
   "source": [
    "### How Many Numbers are smaller than the current number"
   ]
  },
  {
   "cell_type": "code",
   "execution_count": 7,
   "id": "27c4465c",
   "metadata": {},
   "outputs": [],
   "source": [
    "class Solution(object):\n",
    "    def smallerNumbersThanCurrent(self, nums):\n",
    "        \n",
    "        result = []\n",
    "        for i in range(len(nums)):\n",
    "            count = 0\n",
    "            for j in range(len(nums)):\n",
    "                if nums[i]>nums[j]:\n",
    "                    count += 1\n",
    "            result.append(count)    \n",
    "        return result\n"
   ]
  },
  {
   "cell_type": "code",
   "execution_count": 8,
   "id": "438ca5c1",
   "metadata": {},
   "outputs": [
    {
     "name": "stdout",
     "output_type": "stream",
     "text": [
      "8 1 2 2 3\n"
     ]
    },
    {
     "data": {
      "text/plain": [
       "[4, 0, 1, 1, 3]"
      ]
     },
     "execution_count": 8,
     "metadata": {},
     "output_type": "execute_result"
    }
   ],
   "source": [
    "sol = Solution()\n",
    "sol.smallerNumbersThanCurrent(list(map(int,input().split())))"
   ]
  },
  {
   "cell_type": "markdown",
   "id": "560639ff",
   "metadata": {},
   "source": [
    "### Subtract the product and sum of digits of an integer"
   ]
  },
  {
   "cell_type": "code",
   "execution_count": 9,
   "id": "788d70bf",
   "metadata": {},
   "outputs": [],
   "source": [
    "from functools import reduce\n",
    "class Solution(object):\n",
    "    def subtractProductAndSum(self, n):\n",
    "        \n",
    "        x = [int(a) for a in str(n)]  # split a number into digits\n",
    "        mul = reduce(lambda x, y: x*y, x)\n",
    "        add = reduce(lambda x, y: x+y, x)\n",
    "        return (mul - add)"
   ]
  },
  {
   "cell_type": "code",
   "execution_count": 10,
   "id": "62ed1135",
   "metadata": {},
   "outputs": [
    {
     "name": "stdout",
     "output_type": "stream",
     "text": [
      "235\n"
     ]
    },
    {
     "data": {
      "text/plain": [
       "20"
      ]
     },
     "execution_count": 10,
     "metadata": {},
     "output_type": "execute_result"
    }
   ],
   "source": [
    "sol = Solution()\n",
    "sol.subtractProductAndSum(int(input()))"
   ]
  },
  {
   "cell_type": "markdown",
   "id": "c43aa877",
   "metadata": {},
   "source": [
    "### XOR operation in an array"
   ]
  },
  {
   "cell_type": "code",
   "execution_count": 11,
   "id": "7e00cd44",
   "metadata": {},
   "outputs": [],
   "source": [
    "from functools import reduce\n",
    "class Solution:\n",
    "    def xorOperation(self,n,start):\n",
    "        \n",
    "        arr =[]\n",
    "        for i in range(n):\n",
    "            arr.append(start + 2*i)\n",
    "        return (reduce(lambda x,y:x^y,arr))"
   ]
  },
  {
   "cell_type": "code",
   "execution_count": 12,
   "id": "ee30827e",
   "metadata": {},
   "outputs": [
    {
     "data": {
      "text/plain": [
       "8"
      ]
     },
     "execution_count": 12,
     "metadata": {},
     "output_type": "execute_result"
    }
   ],
   "source": [
    "sol = Solution()\n",
    "sol.xorOperation(5,0)"
   ]
  },
  {
   "cell_type": "code",
   "execution_count": null,
   "id": "016b5c98",
   "metadata": {},
   "outputs": [],
   "source": []
  }
 ],
 "metadata": {
  "kernelspec": {
   "display_name": "Python 3",
   "language": "python",
   "name": "python3"
  },
  "language_info": {
   "codemirror_mode": {
    "name": "ipython",
    "version": 3
   },
   "file_extension": ".py",
   "mimetype": "text/x-python",
   "name": "python",
   "nbconvert_exporter": "python",
   "pygments_lexer": "ipython3",
   "version": "3.8.8"
  }
 },
 "nbformat": 4,
 "nbformat_minor": 5
}

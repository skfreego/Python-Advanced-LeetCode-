{
 "cells": [
  {
   "cell_type": "markdown",
   "id": "ec488e8b",
   "metadata": {},
   "source": [
    "### Running sum of 1d array"
   ]
  },
  {
   "cell_type": "code",
   "execution_count": 1,
   "id": "e11419e6",
   "metadata": {},
   "outputs": [],
   "source": [
    "class Solution:\n",
    "    def runningSum(self, nums):\n",
    "        sums = 0\n",
    "        for i in range(len(nums)):\n",
    "            sums = nums[i] + sums\n",
    "            nums[i] = sums\n",
    "        return nums"
   ]
  },
  {
   "cell_type": "code",
   "execution_count": 2,
   "id": "f04dad6d",
   "metadata": {},
   "outputs": [
    {
     "data": {
      "text/plain": [
       "[1, 3, 6, 10, 15, 21]"
      ]
     },
     "execution_count": 2,
     "metadata": {},
     "output_type": "execute_result"
    }
   ],
   "source": [
    "sol = Solution()\n",
    "arr = [1,2,3,4,5,6]\n",
    "sol.runningSum(arr)"
   ]
  },
  {
   "cell_type": "markdown",
   "id": "c5b645a9",
   "metadata": {},
   "source": [
    "### Shuffle the array"
   ]
  },
  {
   "cell_type": "code",
   "execution_count": 3,
   "id": "10a37866",
   "metadata": {},
   "outputs": [],
   "source": [
    "class Solution(object):\n",
    "    def shuffle(self, nums, n):\n",
    "        result = [None] * (2*n)  # empty array of same size \n",
    "        for i in range(2*n):\n",
    "            if i%2 == 0:\n",
    "                result[i] = nums[int(i/2)]\n",
    "            else:\n",
    "                result[i] = nums[n + int(i/2)]\n",
    "        return result"
   ]
  },
  {
   "cell_type": "code",
   "execution_count": 4,
   "id": "447923c2",
   "metadata": {},
   "outputs": [
    {
     "data": {
      "text/plain": [
       "[1, 4, 2, 5, 3, 6]"
      ]
     },
     "execution_count": 4,
     "metadata": {},
     "output_type": "execute_result"
    }
   ],
   "source": [
    "sol = Solution()\n",
    "arr = [1,2,3,4,5,6]\n",
    "sol.shuffle(arr,3)"
   ]
  },
  {
   "cell_type": "markdown",
   "id": "ec477b6f",
   "metadata": {},
   "source": [
    "### Kids with the greatest number of candies"
   ]
  },
  {
   "cell_type": "code",
   "execution_count": 5,
   "id": "9cb96a0a",
   "metadata": {},
   "outputs": [],
   "source": [
    "class Solution(object):\n",
    "    def kidsWithCandies(self, candies, extraCandies):\n",
    "        output = []\n",
    "        for i in candies:\n",
    "            if (i+extraCandies) > max(candies) or i == candies[0]:\n",
    "                output.append(True)\n",
    "            else:\n",
    "                output.append(False)\n",
    "        return output"
   ]
  },
  {
   "cell_type": "code",
   "execution_count": 6,
   "id": "5346510b",
   "metadata": {},
   "outputs": [
    {
     "data": {
      "text/plain": [
       "[True, False, False, False, True, True]"
      ]
     },
     "execution_count": 6,
     "metadata": {},
     "output_type": "execute_result"
    }
   ],
   "source": [
    "sol = Solution()\n",
    "arr = [1,2,3,4,5,6]\n",
    "sol.kidsWithCandies(arr,2)"
   ]
  },
  {
   "cell_type": "code",
   "execution_count": null,
   "id": "24fb020e",
   "metadata": {},
   "outputs": [],
   "source": []
  }
 ],
 "metadata": {
  "kernelspec": {
   "display_name": "Python 3",
   "language": "python",
   "name": "python3"
  },
  "language_info": {
   "codemirror_mode": {
    "name": "ipython",
    "version": 3
   },
   "file_extension": ".py",
   "mimetype": "text/x-python",
   "name": "python",
   "nbconvert_exporter": "python",
   "pygments_lexer": "ipython3",
   "version": "3.8.8"
  }
 },
 "nbformat": 4,
 "nbformat_minor": 5
}

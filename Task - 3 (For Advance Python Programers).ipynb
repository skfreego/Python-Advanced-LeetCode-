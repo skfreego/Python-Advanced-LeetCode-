{
 "cells": [
  {
   "cell_type": "markdown",
   "id": "dca3046c",
   "metadata": {},
   "source": [
    "### Maximum product of two elements in an array"
   ]
  },
  {
   "cell_type": "code",
   "execution_count": 1,
   "id": "feb8f821",
   "metadata": {},
   "outputs": [],
   "source": [
    "class Solution:\n",
    "    def maxProduct(self, nums):\n",
    "        l=len(nums)\n",
    "        nums=sorted(nums,reverse=True)\n",
    "        return (nums[0]-1)*(nums[1]-1)"
   ]
  },
  {
   "cell_type": "code",
   "execution_count": 2,
   "id": "6497ed75",
   "metadata": {},
   "outputs": [
    {
     "name": "stdout",
     "output_type": "stream",
     "text": [
      "2 3 6 5 4 8\n"
     ]
    },
    {
     "data": {
      "text/plain": [
       "35"
      ]
     },
     "execution_count": 2,
     "metadata": {},
     "output_type": "execute_result"
    }
   ],
   "source": [
    "sol = Solution()\n",
    "sol.maxProduct(list(map(int,input().split())))"
   ]
  },
  {
   "cell_type": "markdown",
   "id": "bfb41c26",
   "metadata": {},
   "source": [
    "### Count number of teams"
   ]
  },
  {
   "cell_type": "code",
   "execution_count": 3,
   "id": "7458ddef",
   "metadata": {},
   "outputs": [],
   "source": [
    "class Solution:\n",
    "    def numTeams(self, rating):\n",
    "        count = 0\n",
    "        n = len(rating)\n",
    "        for i in range(n):\n",
    "            for j in range(i+1,n):\n",
    "                for k in range(j+1,n):\n",
    "                        if (rating[i]>rating[j]>rating[k]) or (rating[i]<rating[j]<rating[k]) :\n",
    "                            count += 1\n",
    "        return (count)\n"
   ]
  },
  {
   "cell_type": "code",
   "execution_count": 4,
   "id": "a4a24cfb",
   "metadata": {},
   "outputs": [
    {
     "name": "stdout",
     "output_type": "stream",
     "text": [
      "2 3 5 4 1 2\n"
     ]
    },
    {
     "data": {
      "text/plain": [
       "4"
      ]
     },
     "execution_count": 4,
     "metadata": {},
     "output_type": "execute_result"
    }
   ],
   "source": [
    "sol = Solution()\n",
    "sol.numTeams(list(map(int,input().split())))"
   ]
  },
  {
   "cell_type": "markdown",
   "id": "93a9571f",
   "metadata": {},
   "source": [
    "### Number of students doing homework at a given time"
   ]
  },
  {
   "cell_type": "code",
   "execution_count": 5,
   "id": "0f42bb4e",
   "metadata": {},
   "outputs": [],
   "source": [
    "class Solution:\n",
    "    def busyStudent(self, startTime, endTime, queryTime):\n",
    "        \n",
    "        count = 0\n",
    "        for i in range(len(startTime)):\n",
    "            if startTime[i]<=queryTime<=endTime[i]:\n",
    "                count += 1\n",
    "        return (count)"
   ]
  },
  {
   "cell_type": "code",
   "execution_count": 6,
   "id": "1dc4907f",
   "metadata": {},
   "outputs": [
    {
     "data": {
      "text/plain": [
       "1"
      ]
     },
     "execution_count": 6,
     "metadata": {},
     "output_type": "execute_result"
    }
   ],
   "source": [
    "sol = Solution()\n",
    "sol.busyStudent([1,2,3],[3,2,7],4)"
   ]
  },
  {
   "cell_type": "markdown",
   "id": "2a7ca8ff",
   "metadata": {},
   "source": [
    "### Number of steps to reduce a number to zero"
   ]
  },
  {
   "cell_type": "code",
   "execution_count": 7,
   "id": "1a047071",
   "metadata": {},
   "outputs": [],
   "source": [
    "class Solution:\n",
    "    def numberOfSteps(self, num):\n",
    "       \n",
    "        count = 0\n",
    "        while num > 0:\n",
    "            if num % 2 == 0:\n",
    "                num = num/2\n",
    "                count += 1\n",
    "            if num % 2 != 0:\n",
    "                num = num - 1\n",
    "                count += 1\n",
    "        return count"
   ]
  },
  {
   "cell_type": "code",
   "execution_count": 8,
   "id": "f2f83363",
   "metadata": {},
   "outputs": [
    {
     "name": "stdout",
     "output_type": "stream",
     "text": [
      "5\n"
     ]
    },
    {
     "data": {
      "text/plain": [
       "4"
      ]
     },
     "execution_count": 8,
     "metadata": {},
     "output_type": "execute_result"
    }
   ],
   "source": [
    "sol = Solution()\n",
    "sol.numberOfSteps(int(input()))"
   ]
  },
  {
   "cell_type": "markdown",
   "id": "52e3c309",
   "metadata": {},
   "source": [
    "### Counting Bits"
   ]
  },
  {
   "cell_type": "code",
   "execution_count": 9,
   "id": "4b2160fd",
   "metadata": {},
   "outputs": [],
   "source": [
    "class Solution:\n",
    "    def countBits(self, n):\n",
    "        ans = [0]*(n+1)  # empty list of size 6\n",
    "        if n > 0:\n",
    "            ans[1] = 1\n",
    "        i = 2\n",
    "        while i <= n:\n",
    "            number_of_one = ans[i//2]\n",
    "            if i % 2 == 0:\n",
    "                ans[i] = number_of_one\n",
    "            else:\n",
    "                ans[i] = number_of_one+1\n",
    "            i+=1\n",
    "        return ans"
   ]
  },
  {
   "cell_type": "code",
   "execution_count": 10,
   "id": "7de35fc4",
   "metadata": {},
   "outputs": [
    {
     "data": {
      "text/plain": [
       "[0, 1, 1, 2, 1, 2]"
      ]
     },
     "execution_count": 10,
     "metadata": {},
     "output_type": "execute_result"
    }
   ],
   "source": [
    "sol = Solution()\n",
    "sol.countBits(5)"
   ]
  },
  {
   "cell_type": "code",
   "execution_count": null,
   "id": "7719a38f",
   "metadata": {},
   "outputs": [],
   "source": []
  }
 ],
 "metadata": {
  "kernelspec": {
   "display_name": "Python 3",
   "language": "python",
   "name": "python3"
  },
  "language_info": {
   "codemirror_mode": {
    "name": "ipython",
    "version": 3
   },
   "file_extension": ".py",
   "mimetype": "text/x-python",
   "name": "python",
   "nbconvert_exporter": "python",
   "pygments_lexer": "ipython3",
   "version": "3.8.8"
  }
 },
 "nbformat": 4,
 "nbformat_minor": 5
}

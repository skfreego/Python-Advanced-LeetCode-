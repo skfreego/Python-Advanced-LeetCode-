{
 "cells": [
  {
   "cell_type": "markdown",
   "id": "77d2ed76",
   "metadata": {},
   "source": [
    "### Subsets"
   ]
  },
  {
   "cell_type": "code",
   "execution_count": 1,
   "id": "a4d440a4",
   "metadata": {},
   "outputs": [],
   "source": [
    "class Solution:\n",
    "    def subsets(self, nums):\n",
    "        \n",
    "        output = [[]]\n",
    "        for i in nums:\n",
    "            output += [lst + [i] for lst in output]\n",
    "        return output"
   ]
  },
  {
   "cell_type": "code",
   "execution_count": 2,
   "id": "cbc9f173",
   "metadata": {},
   "outputs": [
    {
     "name": "stdout",
     "output_type": "stream",
     "text": [
      "1 2 3\n"
     ]
    },
    {
     "data": {
      "text/plain": [
       "[[], [1], [2], [1, 2], [3], [1, 3], [2, 3], [1, 2, 3]]"
      ]
     },
     "execution_count": 2,
     "metadata": {},
     "output_type": "execute_result"
    }
   ],
   "source": [
    "sol = Solution()\n",
    "sol.subsets(list(map(int,input().split())))"
   ]
  },
  {
   "cell_type": "markdown",
   "id": "8ac4377c",
   "metadata": {},
   "source": [
    "### Hamming Distance"
   ]
  },
  {
   "cell_type": "code",
   "execution_count": 3,
   "id": "af3770b7",
   "metadata": {},
   "outputs": [],
   "source": [
    "class Solution(object):\n",
    "    def hammingDistance(self, x, y):\n",
    "        b = max([x, y])\n",
    "        s = min([x, y])\n",
    "        c = 0\n",
    "        while b > 0:\n",
    "            if b % 2 != s % 2:\n",
    "                c += 1\n",
    "            b //= 2\n",
    "            s //= 2\n",
    "        return c"
   ]
  },
  {
   "cell_type": "code",
   "execution_count": 4,
   "id": "3108a4a4",
   "metadata": {},
   "outputs": [
    {
     "name": "stdout",
     "output_type": "stream",
     "text": [
      "1\n",
      "4\n"
     ]
    },
    {
     "data": {
      "text/plain": [
       "2"
      ]
     },
     "execution_count": 4,
     "metadata": {},
     "output_type": "execute_result"
    }
   ],
   "source": [
    "sol = Solution()\n",
    "sol.hammingDistance(int(input()),int(input()))"
   ]
  },
  {
   "cell_type": "markdown",
   "id": "591e9427",
   "metadata": {},
   "source": [
    "### Single Number ll"
   ]
  },
  {
   "cell_type": "code",
   "execution_count": 5,
   "id": "2bd78e8a",
   "metadata": {},
   "outputs": [],
   "source": [
    "class Solution:\n",
    "    def singleNumber(self, nums):\n",
    "        elements = []\n",
    "        c = 1\n",
    "        for i in nums:\n",
    "            if nums.count(i) == 1:\n",
    "                c = i\n",
    "        return c"
   ]
  },
  {
   "cell_type": "code",
   "execution_count": 6,
   "id": "a3d07b5b",
   "metadata": {},
   "outputs": [
    {
     "name": "stdout",
     "output_type": "stream",
     "text": [
      "0 1 0 1 0 1 0 1 99 88\n"
     ]
    },
    {
     "data": {
      "text/plain": [
       "88"
      ]
     },
     "execution_count": 6,
     "metadata": {},
     "output_type": "execute_result"
    }
   ],
   "source": [
    "sol = Solution()\n",
    "sol.singleNumber(list(map(int,input().split())))"
   ]
  },
  {
   "cell_type": "code",
   "execution_count": null,
   "id": "a4f5332c",
   "metadata": {},
   "outputs": [],
   "source": []
  }
 ],
 "metadata": {
  "kernelspec": {
   "display_name": "Python 3",
   "language": "python",
   "name": "python3"
  },
  "language_info": {
   "codemirror_mode": {
    "name": "ipython",
    "version": 3
   },
   "file_extension": ".py",
   "mimetype": "text/x-python",
   "name": "python",
   "nbconvert_exporter": "python",
   "pygments_lexer": "ipython3",
   "version": "3.8.8"
  }
 },
 "nbformat": 4,
 "nbformat_minor": 5
}
